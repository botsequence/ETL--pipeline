# 1. Install required libraries (for Colab users, run this cell once)
!pip install pandas openpyxl

# 2. Import libraries
import pandas as pd
import requests

# 3. Fetch and clean Sales CRM Users
users = requests.get("https://dummyjson.com/users").json()["users"]

# Flatten nested 'company' fields
for user in users:
    if "company" in user and isinstance(user["company"], dict):
        user["company_name"] = user["company"].get("name", "")
    else:
        user["company_name"] = ""

# Convert to DataFrame
users_df = pd.DataFrame(users)
users_df["fullName"] = users_df["firstName"] + " " + users_df["lastName"]
users_cleaned = users_df[["id", "fullName", "email", "company_name"]]

# Better Customer Support Tickets
tickets = requests.get("https://dummyjson.com/todos").json()["todos"]
tickets_df = pd.DataFrame(tickets)
tickets_cleaned = tickets_df[["id", "todo", "completed", "userId"]]

# 5. Fetch and clean Inventory Products
products = requests.get("https://fakestoreapi.com/products").json()
products_df = pd.DataFrame(products)
products_cleaned = products_df[["id", "title", "price", "category", "rating"]]

# 6. Display all cleaned tables
print("🧑‍💼 Sales CRM Users:")
display(users_cleaned.head())

print("\n🎫 Customer Support Tickets:")
display(tickets_cleaned.head())

print("\n📦 Inventory Products:")
display(products_cleaned.head())

import pandas as pd
import requests

# Payments (using dummyjson to avoid downtime)
cards = requests.get("https://dummyjson.com/carts").json()["carts"]
cards_df = pd.DataFrame(cards)

# Orders (from FakeStore API)
orders = requests.get("https://fakestoreapi.com/carts").json()
orders_df = pd.DataFrame(orders)

# Product Reviews
reviews = requests.get("https://dummyjson.com/comments").json()["comments"]
reviews_df = pd.DataFrame(reviews)

# Display the data
print("💳 Dummy Payments (Carts)")
display(cards_df.head())

print("\n🛒 Orders Data")
display(orders_df[:5])

print("\n📝 Product Reviews")
display(reviews_df.head())
