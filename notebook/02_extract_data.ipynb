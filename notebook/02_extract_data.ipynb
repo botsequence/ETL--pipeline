{
  "nbformat": 4,
  "nbformat_minor": 0,
  "metadata": {
    "colab": {
      "provenance": [],
      "authorship_tag": "ABX9TyOpYU3Z0Q6LQ7R4DTDRR/JM"
    },
    "kernelspec": {
      "name": "python3",
      "display_name": "Python 3"
    },
    "language_info": {
      "name": "python"
    }
  },
  "cells": [
    {
      "cell_type": "code",
      "execution_count": null,
      "metadata": {
        "id": "Z2sXFGwWF6GD"
      },
      "outputs": [],
      "source": [
        "# 1. Install required libraries (for Colab users, run this cell once)\n",
        "!pip install pandas openpyxl\n",
        "\n",
        "# 2. Import libraries\n",
        "import pandas as pd\n",
        "import requests\n",
        "\n",
        "# 3. Fetch and clean Sales CRM Users\n",
        "users = requests.get(\"https://dummyjson.com/users\").json()[\"users\"]\n",
        "\n",
        "# Flatten nested 'company' fields\n",
        "for user in users:\n",
        "    if \"company\" in user and isinstance(user[\"company\"], dict):\n",
        "        user[\"company_name\"] = user[\"company\"].get(\"name\", \"\")\n",
        "    else:\n",
        "        user[\"company_name\"] = \"\"\n",
        "\n",
        "# Convert to DataFrame\n",
        "users_df = pd.DataFrame(users)\n",
        "users_df[\"fullName\"] = users_df[\"firstName\"] + \" \" + users_df[\"lastName\"]\n",
        "users_cleaned = users_df[[\"id\", \"fullName\", \"email\", \"company_name\"]]\n",
        "\n",
        "# Better Customer Support Tickets\n",
        "tickets = requests.get(\"https://dummyjson.com/todos\").json()[\"todos\"]\n",
        "tickets_df = pd.DataFrame(tickets)\n",
        "tickets_cleaned = tickets_df[[\"id\", \"todo\", \"completed\", \"userId\"]]\n",
        "\n",
        "# 5. Fetch and clean Inventory Products\n",
        "products = requests.get(\"https://fakestoreapi.com/products\").json()\n",
        "products_df = pd.DataFrame(products)\n",
        "products_cleaned = products_df[[\"id\", \"title\", \"price\", \"category\", \"rating\"]]\n",
        "\n",
        "# 6. Display all cleaned tables\n",
        "print(\"🧑‍💼 Sales CRM Users:\")\n",
        "display(users_cleaned.head())\n",
        "\n",
        "print(\"\\n🎫 Customer Support Tickets:\")\n",
        "display(tickets_cleaned.head())\n",
        "\n",
        "print(\"\\n📦 Inventory Products:\")\n",
        "display(products_cleaned.head())\n",
        "\n",
        "import pandas as pd\n",
        "import requests\n",
        "\n",
        "# Payments (using dummyjson to avoid downtime)\n",
        "cards = requests.get(\"https://dummyjson.com/carts\").json()[\"carts\"]\n",
        "cards_df = pd.DataFrame(cards)\n",
        "\n",
        "# Orders (from FakeStore API)\n",
        "orders = requests.get(\"https://fakestoreapi.com/carts\").json()\n",
        "orders_df = pd.DataFrame(orders)\n",
        "\n",
        "# Product Reviews\n",
        "reviews = requests.get(\"https://dummyjson.com/comments\").json()[\"comments\"]\n",
        "reviews_df = pd.DataFrame(reviews)\n",
        "\n",
        "# Display the data\n",
        "print(\"💳 Dummy Payments (Carts)\")\n",
        "display(cards_df.head())\n",
        "\n",
        "print(\"\\n🛒 Orders Data\")\n",
        "display(orders_df[:5])\n",
        "\n",
        "print(\"\\n📝 Product Reviews\")\n",
        "display(reviews_df.head())"
      ]
    }
  ]
}