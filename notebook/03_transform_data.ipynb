{
  "nbformat": 4,
  "nbformat_minor": 0,
  "metadata": {
    "colab": {
      "provenance": [],
      "authorship_tag": "ABX9TyOSJgitlilpTo3nlpNYCU2G"
    },
    "kernelspec": {
      "name": "python3",
      "display_name": "Python 3"
    },
    "language_info": {
      "name": "python"
    }
  },
  "cells": [
    {
      "cell_type": "code",
      "execution_count": null,
      "metadata": {
        "id": "6Ah9qg6AHKa2"
      },
      "outputs": [],
      "source": [
        "\n",
        "import pandas as pd\n",
        "import requests\n",
        "\n",
        "# 1. Sales CRM Users\n",
        "users = requests.get(\"https://dummyjson.com/users\").json()[\"users\"]\n",
        "for user in users:\n",
        "    if \"company\" in user and isinstance(user[\"company\"], dict):\n",
        "        user[\"company_name\"] = user[\"company\"].get(\"name\", \"\")\n",
        "    else:\n",
        "        user[\"company_name\"] = \"\"\n",
        "users_df = pd.DataFrame(users)\n",
        "users_df[\"fullName\"] = users_df[\"firstName\"] + \" \" + users_df[\"lastName\"]\n",
        "users_cleaned = users_df[[\"id\", \"fullName\", \"email\", \"company_name\"]]\n",
        "\n",
        "# 2. Customer Support Tickets\n",
        "tickets = requests.get(\"https://dummyjson.com/todos\").json()[\"todos\"]\n",
        "tickets_df = pd.DataFrame(tickets)\n",
        "tickets_cleaned = tickets_df[[\"id\", \"todo\", \"completed\", \"userId\"]]\n",
        "\n",
        "# 3. Inventory Products\n",
        "products = requests.get(\"https://fakestoreapi.com/products\").json()\n",
        "products_df = pd.DataFrame(products)\n",
        "if 'rating' in products_df.columns:\n",
        "    # Some ratings are nested dicts\n",
        "    products_df[\"rate\"] = products_df[\"rating\"].apply(lambda x: x[\"rate\"] if isinstance(x, dict) and \"rate\" in x else None)\n",
        "    products_df[\"count\"] = products_df[\"rating\"].apply(lambda x: x[\"count\"] if isinstance(x, dict) and \"count\" in x else None)\n",
        "products_cleaned = products_df[[\"id\", \"title\", \"price\", \"category\", \"rate\", \"count\"]]\n",
        "\n",
        "# 4. Payments (DummyJSON carts)\n",
        "cards = requests.get(\"https://dummyjson.com/carts\").json()[\"carts\"]\n",
        "cards_df = pd.DataFrame(cards)\n",
        "cards_cleaned = cards_df[[\"id\", \"userId\", \"total\", \"discountedTotal\", \"totalProducts\"]]\n",
        "\n",
        "# 5. Orders (FakeStore carts)\n",
        "orders = requests.get(\"https://fakestoreapi.com/carts\").json()\n",
        "orders_df = pd.DataFrame(orders)\n",
        "orders_cleaned = orders_df[[\"id\", \"userId\", \"date\"]]\n",
        "\n",
        "# 6. Product Reviews\n",
        "reviews = requests.get(\"https://dummyjson.com/comments\").json()[\"comments\"]\n",
        "reviews_df = pd.DataFrame(reviews)\n",
        "reviews_cleaned = reviews_df[[\"id\", \"body\", \"postId\", \"user\"]]\n",
        "# Flatten the nested 'user' column\n",
        "reviews_cleaned[\"user_fullname\"] = reviews_cleaned[\"user\"].apply(lambda x: x[\"username\"] if isinstance(x, dict) else None)\n",
        "reviews_cleaned = reviews_cleaned.drop(columns=[\"user\"])\n",
        "\n",
        "# ✅ Display cleaned data\n",
        "print(\"🧑‍💼 Sales CRM Users\")\n",
        "display(users_cleaned.head())\n",
        "\n",
        "print(\"\\n🎫 Customer Support Tickets\")\n",
        "display(tickets_cleaned.head())\n",
        "\n",
        "print(\"\\n📦 Inventory Products\")\n",
        "display(products_cleaned.head())\n",
        "\n",
        "print(\"\\n💳 Payments Data\")\n",
        "display(cards_cleaned.head())\n",
        "\n",
        "print(\"\\n🛒 Orders Data\")\n",
        "display(orders_cleaned.head())\n",
        "\n",
        "print(\"\\n📝 Product Reviews\")\n",
        "display(reviews_cleaned.head())"
      ]
    }
  ]
}