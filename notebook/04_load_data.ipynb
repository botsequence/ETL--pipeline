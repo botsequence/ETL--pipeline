{
  "nbformat": 4,
  "nbformat_minor": 0,
  "metadata": {
    "colab": {
      "provenance": [],
      "authorship_tag": "ABX9TyOQQIHJhccikLBp7IcDNDmh"
    },
    "kernelspec": {
      "name": "python3",
      "display_name": "Python 3"
    },
    "language_info": {
      "name": "python"
    }
  },
  "cells": [
    {
      "cell_type": "code",
      "execution_count": null,
      "metadata": {
        "id": "t45_mUG8HjM1"
      },
      "outputs": [],
      "source": [
        "import pandas as pd\n",
        "import requests\n",
        "\n",
        "# 1. Sales CRM Users\n",
        "users = requests.get(\"https://dummyjson.com/users\").json()[\"users\"]\n",
        "for user in users:\n",
        "    if \"company\" in user and isinstance(user[\"company\"], dict):\n",
        "        user[\"company_name\"] = user[\"company\"].get(\"name\", \"\")\n",
        "    else:\n",
        "        user[\"company_name\"] = \"\"\n",
        "users_df = pd.DataFrame(users)\n",
        "users_df[\"fullName\"] = users_df[\"firstName\"] + \" \" + users_df[\"lastName\"]\n",
        "users_cleaned = users_df[[\"id\", \"fullName\", \"email\", \"company_name\"]]\n",
        "\n",
        "# 2. Customer Support Tickets\n",
        "tickets = requests.get(\"https://dummyjson.com/todos\").json()[\"todos\"]\n",
        "tickets_df = pd.DataFrame(tickets)\n",
        "tickets_cleaned = tickets_df[[\"id\", \"todo\", \"completed\", \"userId\"]]\n",
        "\n",
        "# 3. Inventory Products\n",
        "products = requests.get(\"https://fakestoreapi.com/products\").json()\n",
        "products_df = pd.DataFrame(products)\n",
        "if 'rating' in products_df.columns:\n",
        "    products_df[\"rate\"] = products_df[\"rating\"].apply(lambda x: x[\"rate\"] if isinstance(x, dict) else None)\n",
        "    products_df[\"count\"] = products_df[\"rating\"].apply(lambda x: x[\"count\"] if isinstance(x, dict) else None)\n",
        "products_cleaned = products_df[[\"id\", \"title\", \"price\", \"category\", \"rate\", \"count\"]]\n",
        "\n",
        "# 4. Payments (DummyJSON carts)\n",
        "cards = requests.get(\"https://dummyjson.com/carts\").json()[\"carts\"]\n",
        "cards_df = pd.DataFrame(cards)\n",
        "cards_cleaned = cards_df[[\"id\", \"userId\", \"total\", \"discountedTotal\", \"totalProducts\"]]\n",
        "\n",
        "# 5. Orders (FakeStore carts)\n",
        "orders = requests.get(\"https://fakestoreapi.com/carts\").json()\n",
        "orders_df = pd.DataFrame(orders)\n",
        "orders_cleaned = orders_df[[\"id\", \"userId\", \"date\"]]\n",
        "\n",
        "# 6. Product Reviews\n",
        "reviews = requests.get(\"https://dummyjson.com/comments\").json()[\"comments\"]\n",
        "reviews_df = pd.DataFrame(reviews)\n",
        "# Extract nested username safely\n",
        "reviews_df[\"user_fullname\"] = reviews_df[\"user\"].apply(lambda x: x[\"username\"] if isinstance(x, dict) else None)\n",
        "reviews_cleaned = reviews_df[[\"id\", \"body\", \"postId\", \"user_fullname\"]]\n",
        "\n",
        "# ✅ Save everything to one Excel file without nested dicts\n",
        "with pd.ExcelWriter(\"cleaned_data.xlsx\", engine=\"xlsxwriter\") as writer:\n",
        "    users_cleaned.to_excel(writer, sheet_name=\"Sales_CRM_Users\", index=False)\n",
        "    tickets_cleaned.to_excel(writer, sheet_name=\"Support_Tickets\", index=False)\n",
        "    products_cleaned.to_excel(writer, sheet_name=\"Inventory_Products\", index=False)\n",
        "    cards_cleaned.to_excel(writer, sheet_name=\"Payments\", index=False)\n",
        "    orders_cleaned.to_excel(writer, sheet_name=\"Orders\", index=False)\n",
        "    reviews_cleaned.to_excel(writer, sheet_name=\"Product_Reviews\", index=False)\n",
        "\n",
        "print(\"✅ Exported clean data to 'cleaned_data.xlsx' — ready for Google Sheets.\")"
      ]
    }
  ]
}